
train['Loan_Status'].value_counts()
# Normalize can be set to True to print proportions instead of number 
train['Loan_Status'].value_counts(normalize=True)
train['Loan_Status'].value_counts().plot.bar()
